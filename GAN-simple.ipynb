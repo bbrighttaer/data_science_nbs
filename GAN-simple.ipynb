{
 "cells": [
  {
   "cell_type": "code",
   "execution_count": 1,
   "metadata": {},
   "outputs": [],
   "source": [
    "import os\n",
    "import torch\n",
    "import torch.nn as nn\n",
    "import torch.utils.data as data\n",
    "import torchvision.datasets as dsets\n",
    "from torch.autograd import Variable\n",
    "import torchvision.transforms as transforms\n",
    "import seaborn as sns\n",
    "import matplotlib.pyplot as plt\n",
    "import numpy as np\n",
    "from torchvision.utils import save_image"
   ]
  },
  {
   "cell_type": "code",
   "execution_count": 33,
   "metadata": {},
   "outputs": [],
   "source": [
    "%matplotlib inline\n",
    "torch.manual_seed(1)\n",
    "os.makedirs('images', exist_ok=True)"
   ]
  },
  {
   "cell_type": "code",
   "execution_count": 34,
   "metadata": {},
   "outputs": [],
   "source": [
    "train_dataset = dsets.MNIST(root='./data', train=True, download=True, \n",
    "                            transform=transforms.Compose([transforms.ToTensor(),\n",
    "                                                         transforms.Normalize((0.5, 0.5, 0.5),(0.5, 0.5, 0.5))]\n",
    "                                                        ))"
   ]
  },
  {
   "cell_type": "code",
   "execution_count": 35,
   "metadata": {},
   "outputs": [],
   "source": [
    "def weight_init(layer):\n",
    "    if type(m) in [nn.Conv2d, nn.Linear]:\n",
    "        layer.data = nn.init.xavier_normal(layer.data.size())\n",
    "        if layer.bias:\n",
    "            layer.bias.data = nn.init.zeros_(layer.bias.size())"
   ]
  },
  {
   "cell_type": "code",
   "execution_count": 36,
   "metadata": {},
   "outputs": [
    {
     "data": {
      "text/plain": [
       "60000"
      ]
     },
     "execution_count": 36,
     "metadata": {},
     "output_type": "execute_result"
    }
   ],
   "source": [
    "len(train_dataset)"
   ]
  },
  {
   "cell_type": "code",
   "execution_count": 37,
   "metadata": {},
   "outputs": [
    {
     "name": "stdout",
     "output_type": "stream",
     "text": [
      "tensor(5)\n"
     ]
    },
    {
     "data": {
      "image/png": "[encoded data removed]",
      "text/plain": [
       "<Figure size 432x288 with 1 Axes>"
      ]
     },
     "metadata": {},
     "output_type": "display_data"
    }
   ],
   "source": [
    "plt.imshow(train_dataset.train_data[0].numpy(), cmap='gray')\n",
    "print(train_dataset.train_labels[0])"
   ]
  },
  {
   "cell_type": "code",
   "execution_count": 73,
   "metadata": {},
   "outputs": [
    {
     "name": "stdout",
     "output_type": "stream",
     "text": [
      "106\n"
     ]
    }
   ],
   "source": [
    "image_size = (1, 28, 28)\n",
    "latent_dim = 100\n",
    "batch_size = 128\n",
    "iterations = 50000\n",
    "n_epochs = iterations/(len(train_dataset)/batch_size)\n",
    "n_epochs = int(n_epochs)\n",
    "print(n_epochs)"
   ]
  },
  {
   "cell_type": "code",
   "execution_count": 74,
   "metadata": {},
   "outputs": [],
   "source": [
    "train_loader = data.DataLoader(train_dataset, batch_size, shuffle=True)"
   ]
  },
  {
   "cell_type": "code",
   "execution_count": 75,
   "metadata": {},
   "outputs": [],
   "source": [
    "class Discriminator(nn.Module):\n",
    "    def __init__(self, img_sz):\n",
    "        super(Discriminator, self).__init__()\n",
    "                \n",
    "        self.model = nn.Sequential(\n",
    "            nn.Linear(int(np.prod(img_sz)), 512),\n",
    "            nn.LeakyReLU(0.2, inplace=True),\n",
    "            nn.Linear(512, 256),\n",
    "            nn.LeakyReLU(0.2, inplace=True),\n",
    "            nn.Linear(256, 1),\n",
    "            nn.Sigmoid()\n",
    "        )\n",
    "        \n",
    "    def forward(self, x):\n",
    "        out = x.view(x.size(0), -1)\n",
    "        out = self.model(out)        \n",
    "        return out"
   ]
  },
  {
   "cell_type": "code",
   "execution_count": 76,
   "metadata": {},
   "outputs": [],
   "source": [
    "class Generator(nn.Module):\n",
    "    def __init__(self, latent_dim, img_sz):\n",
    "        super(Generator, self).__init__()\n",
    "        self.img_sz = img_sz\n",
    "        \n",
    "        def fully_connected(input_dim, output_dim, batch_norm=True):\n",
    "            layers = [nn.Linear(input_dim, output_dim)]\n",
    "            if batch_norm:\n",
    "                layers.append(nn.BatchNorm1d(output_dim, 0.8))\n",
    "            layers.append(nn.LeakyReLU(0.2, inplace=True))\n",
    "            return layers\n",
    "        \n",
    "        self.model = nn.Sequential(\n",
    "            *fully_connected(latent_dim, 128, batch_norm=True),\n",
    "            *fully_connected(128, 256),\n",
    "            *fully_connected(256, 512),\n",
    "            *fully_connected(512, 1024),\n",
    "            nn.Linear(1024, int(np.prod(img_sz))),\n",
    "            nn.Tanh())\n",
    "    \n",
    "    def forward(self, z):\n",
    "        z = self.model(z)\n",
    "        z = z.view(z.size(0), *self.img_sz)\n",
    "        return z"
   ]
  },
  {
   "cell_type": "code",
   "execution_count": 77,
   "metadata": {},
   "outputs": [],
   "source": [
    "generator = Generator(latent_dim=latent_dim, img_sz=image_size)\n",
    "discriminator = Discriminator(img_sz=image_size)"
   ]
  },
  {
   "cell_type": "code",
   "execution_count": 78,
   "metadata": {},
   "outputs": [],
   "source": [
    "adversarial_criterion = nn.BCELoss()"
   ]
  },
  {
   "cell_type": "code",
   "execution_count": 79,
   "metadata": {},
   "outputs": [],
   "source": [
    "learning_rate = 0.00001\n",
    "optimizer_dis = torch.optim.Adam(discriminator.parameters(), lr=learning_rate)\n",
    "optimizer_gen = torch.optim.Adam(generator.parameters(), lr=learning_rate)"
   ]
  },
  {
   "cell_type": "code",
   "execution_count": 80,
   "metadata": {},
   "outputs": [],
   "source": [
    "Tensor = torch.FloatTensor"
   ]
  },
  {
   "cell_type": "code",
   "execution_count": 81,
   "metadata": {},
   "outputs": [
    {
     "name": "stdout",
     "output_type": "stream",
     "text": [
      "[Epoch 0/106] [Batch 0/469] [D loss: 0.669276] [G loss: 0.692692]\n",
      "[Epoch 0/106] [Batch 400/469] [D loss: 0.372850] [G loss: 0.661357]\n",
      "[Epoch 1/106] [Batch 331/469] [D loss: 0.395287] [G loss: 0.715516]\n",
      "[Epoch 2/106] [Batch 262/469] [D loss: 0.488574] [G loss: 0.731638]\n",
      "[Epoch 3/106] [Batch 193/469] [D loss: 0.378647] [G loss: 1.008731]\n",
      "[Epoch 4/106] [Batch 124/469] [D loss: 0.289080] [G loss: 1.162711]\n",
      "[Epoch 5/106] [Batch 55/469] [D loss: 0.241142] [G loss: 1.397432]\n",
      "[Epoch 5/106] [Batch 455/469] [D loss: 0.199552] [G loss: 1.519229]\n",
      "[Epoch 6/106] [Batch 386/469] [D loss: 0.182963] [G loss: 1.668879]\n",
      "[Epoch 7/106] [Batch 317/469] [D loss: 0.134985] [G loss: 1.885130]\n",
      "[Epoch 8/106] [Batch 248/469] [D loss: 0.089447] [G loss: 2.385209]\n",
      "[Epoch 9/106] [Batch 179/469] [D loss: 0.073297] [G loss: 2.452209]\n",
      "[Epoch 10/106] [Batch 110/469] [D loss: 0.072606] [G loss: 2.530710]\n",
      "[Epoch 11/106] [Batch 41/469] [D loss: 0.056303] [G loss: 2.703644]\n",
      "[Epoch 11/106] [Batch 441/469] [D loss: 0.041941] [G loss: 3.152630]\n",
      "[Epoch 12/106] [Batch 372/469] [D loss: 0.037017] [G loss: 3.151068]\n",
      "[Epoch 13/106] [Batch 303/469] [D loss: 0.031577] [G loss: 3.557780]\n",
      "[Epoch 14/106] [Batch 234/469] [D loss: 0.032658] [G loss: 3.435541]\n",
      "[Epoch 15/106] [Batch 165/469] [D loss: 0.030419] [G loss: 3.635224]\n",
      "[Epoch 16/106] [Batch 96/469] [D loss: 0.038202] [G loss: 3.900283]\n",
      "[Epoch 17/106] [Batch 27/469] [D loss: 0.030018] [G loss: 4.689610]\n",
      "[Epoch 17/106] [Batch 427/469] [D loss: 0.036959] [G loss: 4.202030]\n",
      "[Epoch 18/106] [Batch 358/469] [D loss: 0.032742] [G loss: 4.287652]\n",
      "[Epoch 19/106] [Batch 289/469] [D loss: 0.027516] [G loss: 4.938017]\n",
      "[Epoch 20/106] [Batch 220/469] [D loss: 0.026783] [G loss: 4.617415]\n",
      "[Epoch 21/106] [Batch 151/469] [D loss: 0.019018] [G loss: 4.739079]\n",
      "[Epoch 22/106] [Batch 82/469] [D loss: 0.019610] [G loss: 4.846628]\n",
      "[Epoch 23/106] [Batch 13/469] [D loss: 0.021444] [G loss: 4.784662]\n",
      "[Epoch 23/106] [Batch 413/469] [D loss: 0.017492] [G loss: 5.087676]\n",
      "[Epoch 24/106] [Batch 344/469] [D loss: 0.013703] [G loss: 5.491613]\n",
      "[Epoch 25/106] [Batch 275/469] [D loss: 0.018745] [G loss: 5.713332]\n",
      "[Epoch 26/106] [Batch 206/469] [D loss: 0.015120] [G loss: 5.237626]\n",
      "[Epoch 27/106] [Batch 137/469] [D loss: 0.011974] [G loss: 5.285186]\n",
      "[Epoch 28/106] [Batch 68/469] [D loss: 0.014056] [G loss: 5.338581]\n",
      "[Epoch 28/106] [Batch 468/469] [D loss: 0.016756] [G loss: 5.251649]\n",
      "[Epoch 29/106] [Batch 399/469] [D loss: 0.020533] [G loss: 5.664063]\n",
      "[Epoch 30/106] [Batch 330/469] [D loss: 0.014347] [G loss: 5.795179]\n",
      "[Epoch 31/106] [Batch 261/469] [D loss: 0.013797] [G loss: 4.499889]\n",
      "[Epoch 32/106] [Batch 192/469] [D loss: 0.013440] [G loss: 5.175988]\n",
      "[Epoch 33/106] [Batch 123/469] [D loss: 0.017501] [G loss: 4.834260]\n",
      "[Epoch 34/106] [Batch 54/469] [D loss: 0.015103] [G loss: 4.452742]\n",
      "[Epoch 34/106] [Batch 454/469] [D loss: 0.014608] [G loss: 4.870843]\n",
      "[Epoch 35/106] [Batch 385/469] [D loss: 0.014330] [G loss: 4.520057]\n",
      "[Epoch 36/106] [Batch 316/469] [D loss: 0.015025] [G loss: 4.337488]\n",
      "[Epoch 37/106] [Batch 247/469] [D loss: 0.011200] [G loss: 4.644006]\n",
      "[Epoch 38/106] [Batch 178/469] [D loss: 0.015356] [G loss: 4.392135]\n",
      "[Epoch 39/106] [Batch 109/469] [D loss: 0.022659] [G loss: 3.831232]\n",
      "[Epoch 40/106] [Batch 40/469] [D loss: 0.011953] [G loss: 4.514863]\n",
      "[Epoch 40/106] [Batch 440/469] [D loss: 0.012861] [G loss: 4.405149]\n",
      "[Epoch 41/106] [Batch 371/469] [D loss: 0.018650] [G loss: 4.625757]\n",
      "[Epoch 42/106] [Batch 302/469] [D loss: 0.016641] [G loss: 4.483713]\n",
      "[Epoch 43/106] [Batch 233/469] [D loss: 0.011120] [G loss: 4.898480]\n",
      "[Epoch 44/106] [Batch 164/469] [D loss: 0.009719] [G loss: 4.555882]\n",
      "[Epoch 45/106] [Batch 95/469] [D loss: 0.008791] [G loss: 4.622645]\n",
      "[Epoch 46/106] [Batch 26/469] [D loss: 0.010384] [G loss: 4.486521]\n",
      "[Epoch 46/106] [Batch 426/469] [D loss: 0.006947] [G loss: 4.968154]\n",
      "[Epoch 47/106] [Batch 357/469] [D loss: 0.008875] [G loss: 4.598378]\n",
      "[Epoch 48/106] [Batch 288/469] [D loss: 0.006283] [G loss: 4.810307]\n",
      "[Epoch 49/106] [Batch 219/469] [D loss: 0.020022] [G loss: 4.750285]\n",
      "[Epoch 50/106] [Batch 150/469] [D loss: 0.006448] [G loss: 4.662768]\n",
      "[Epoch 51/106] [Batch 81/469] [D loss: 0.022819] [G loss: 5.663947]\n",
      "[Epoch 52/106] [Batch 12/469] [D loss: 0.018453] [G loss: 4.208633]\n",
      "[Epoch 52/106] [Batch 412/469] [D loss: 0.011291] [G loss: 4.456409]\n",
      "[Epoch 53/106] [Batch 343/469] [D loss: 0.007728] [G loss: 4.986301]\n",
      "[Epoch 54/106] [Batch 274/469] [D loss: 0.019916] [G loss: 3.674317]\n",
      "[Epoch 55/106] [Batch 205/469] [D loss: 0.017571] [G loss: 4.852640]\n",
      "[Epoch 56/106] [Batch 136/469] [D loss: 0.022401] [G loss: 4.439582]\n",
      "[Epoch 57/106] [Batch 67/469] [D loss: 0.028438] [G loss: 4.421361]\n",
      "[Epoch 57/106] [Batch 467/469] [D loss: 0.038117] [G loss: 3.912801]\n",
      "[Epoch 58/106] [Batch 398/469] [D loss: 0.044412] [G loss: 3.931494]\n",
      "[Epoch 59/106] [Batch 329/469] [D loss: 0.032299] [G loss: 4.591499]\n",
      "[Epoch 60/106] [Batch 260/469] [D loss: 0.034249] [G loss: 4.166784]\n",
      "[Epoch 61/106] [Batch 191/469] [D loss: 0.019288] [G loss: 4.481277]\n",
      "[Epoch 62/106] [Batch 122/469] [D loss: 0.021347] [G loss: 4.274264]\n",
      "[Epoch 63/106] [Batch 53/469] [D loss: 0.029481] [G loss: 3.765927]\n",
      "[Epoch 63/106] [Batch 453/469] [D loss: 0.023761] [G loss: 4.190367]\n",
      "[Epoch 64/106] [Batch 384/469] [D loss: 0.028999] [G loss: 4.538916]\n",
      "[Epoch 65/106] [Batch 315/469] [D loss: 0.065738] [G loss: 4.452317]\n",
      "[Epoch 66/106] [Batch 246/469] [D loss: 0.036954] [G loss: 4.140821]\n",
      "[Epoch 67/106] [Batch 177/469] [D loss: 0.032220] [G loss: 3.826949]\n",
      "[Epoch 68/106] [Batch 108/469] [D loss: 0.026893] [G loss: 4.309842]\n",
      "[Epoch 69/106] [Batch 39/469] [D loss: 0.018765] [G loss: 4.446968]\n",
      "[Epoch 69/106] [Batch 439/469] [D loss: 0.022179] [G loss: 4.109138]\n",
      "[Epoch 70/106] [Batch 370/469] [D loss: 0.041417] [G loss: 3.912920]\n",
      "[Epoch 71/106] [Batch 301/469] [D loss: 0.022913] [G loss: 4.224472]\n",
      "[Epoch 72/106] [Batch 232/469] [D loss: 0.054794] [G loss: 4.271266]\n",
      "[Epoch 73/106] [Batch 163/469] [D loss: 0.031314] [G loss: 3.869198]\n",
      "[Epoch 74/106] [Batch 94/469] [D loss: 0.031226] [G loss: 3.180798]\n",
      "[Epoch 75/106] [Batch 25/469] [D loss: 0.044977] [G loss: 3.663309]\n",
      "[Epoch 75/106] [Batch 425/469] [D loss: 0.028748] [G loss: 3.852061]\n",
      "[Epoch 76/106] [Batch 356/469] [D loss: 0.045872] [G loss: 4.571365]\n",
      "[Epoch 77/106] [Batch 287/469] [D loss: 0.024111] [G loss: 4.203907]\n",
      "[Epoch 78/106] [Batch 218/469] [D loss: 0.033499] [G loss: 3.848880]\n",
      "[Epoch 79/106] [Batch 149/469] [D loss: 0.053315] [G loss: 3.300414]\n",
      "[Epoch 80/106] [Batch 80/469] [D loss: 0.033239] [G loss: 3.624846]\n",
      "[Epoch 81/106] [Batch 11/469] [D loss: 0.037054] [G loss: 4.607853]\n",
      "[Epoch 81/106] [Batch 411/469] [D loss: 0.049502] [G loss: 3.491790]\n",
      "[Epoch 82/106] [Batch 342/469] [D loss: 0.033021] [G loss: 4.125804]\n",
      "[Epoch 83/106] [Batch 273/469] [D loss: 0.027403] [G loss: 4.394464]\n",
      "[Epoch 84/106] [Batch 204/469] [D loss: 0.039747] [G loss: 4.318480]\n",
      "[Epoch 85/106] [Batch 135/469] [D loss: 0.045087] [G loss: 3.866727]\n",
      "[Epoch 86/106] [Batch 66/469] [D loss: 0.028093] [G loss: 4.587782]\n",
      "[Epoch 86/106] [Batch 466/469] [D loss: 0.018795] [G loss: 4.468730]\n",
      "[Epoch 87/106] [Batch 397/469] [D loss: 0.019361] [G loss: 4.051199]\n",
      "[Epoch 88/106] [Batch 328/469] [D loss: 0.035413] [G loss: 3.545448]\n",
      "[Epoch 89/106] [Batch 259/469] [D loss: 0.036646] [G loss: 5.700046]\n",
      "[Epoch 90/106] [Batch 190/469] [D loss: 0.032960] [G loss: 3.847642]\n",
      "[Epoch 91/106] [Batch 121/469] [D loss: 0.059981] [G loss: 3.961938]\n",
      "[Epoch 92/106] [Batch 52/469] [D loss: 0.021348] [G loss: 4.656921]\n",
      "[Epoch 92/106] [Batch 452/469] [D loss: 0.026111] [G loss: 3.571450]\n",
      "[Epoch 93/106] [Batch 383/469] [D loss: 0.033238] [G loss: 3.800921]\n",
      "[Epoch 94/106] [Batch 314/469] [D loss: 0.050626] [G loss: 3.062924]\n",
      "[Epoch 95/106] [Batch 245/469] [D loss: 0.020961] [G loss: 4.240903]\n",
      "[Epoch 96/106] [Batch 176/469] [D loss: 0.041041] [G loss: 4.573579]\n",
      "[Epoch 97/106] [Batch 107/469] [D loss: 0.050474] [G loss: 3.838442]\n",
      "[Epoch 98/106] [Batch 38/469] [D loss: 0.032261] [G loss: 3.898710]\n",
      "[Epoch 98/106] [Batch 438/469] [D loss: 0.041717] [G loss: 4.338778]\n",
      "[Epoch 99/106] [Batch 369/469] [D loss: 0.056245] [G loss: 4.632658]\n",
      "[Epoch 100/106] [Batch 300/469] [D loss: 0.038367] [G loss: 3.888936]\n",
      "[Epoch 101/106] [Batch 231/469] [D loss: 0.042436] [G loss: 3.461680]\n"
     ]
    },
    {
     "name": "stdout",
     "output_type": "stream",
     "text": [
      "[Epoch 102/106] [Batch 162/469] [D loss: 0.034810] [G loss: 4.203042]\n",
      "[Epoch 103/106] [Batch 93/469] [D loss: 0.066110] [G loss: 3.314403]\n",
      "[Epoch 104/106] [Batch 24/469] [D loss: 0.023438] [G loss: 4.642613]\n",
      "[Epoch 104/106] [Batch 424/469] [D loss: 0.026940] [G loss: 4.155105]\n",
      "[Epoch 105/106] [Batch 355/469] [D loss: 0.026654] [G loss: 4.038918]\n"
     ]
    }
   ],
   "source": [
    "gen_loss = []\n",
    "dis_loss = []\n",
    "for epoch in range(n_epochs):\n",
    "    counter=0\n",
    "    for i, (images, labels) in enumerate(train_loader):\n",
    "        valid = Variable(Tensor(images.size(0), 1).fill_(1.0), requires_grad=False)\n",
    "        fake = Variable(Tensor(images.size(0), 1).fill_(0.0), requires_grad=False)\n",
    "        \n",
    "        real_images = Variable(images.type(Tensor))\n",
    "        z = np.random.normal(0, 1, (images.size(0), latent_dim))\n",
    "        z = Variable(Tensor(z))\n",
    "        gen_images = generator(z)\n",
    "        \n",
    "        \n",
    "        # Generator training\n",
    "        optimizer_gen.zero_grad()\n",
    "        generator_loss = adversarial_criterion(discriminator(gen_images), valid)\n",
    "        gen_loss.append(generator_loss.item())\n",
    "        generator_loss.backward()\n",
    "        optimizer_gen.step()\n",
    "        \n",
    "        # Discriminator training\n",
    "        optimizer_dis.zero_grad()\n",
    "        real_images_loss = adversarial_criterion(discriminator(real_images), valid)\n",
    "        gen_images_loss = adversarial_criterion(discriminator(gen_images.detach()), fake)\n",
    "        discriminator_loss = (real_images_loss + gen_images_loss)/2\n",
    "        dis_loss.append(discriminator_loss.item())\n",
    "        discriminator_loss.backward()\n",
    "        optimizer_dis.step()\n",
    "        \n",
    "        batches_done = epoch * len(train_loader) + i        \n",
    "        if batches_done % 400 == 0:        \n",
    "            print (\"[Epoch %d/%d] [Batch %d/%d] [D loss: %f] [G loss: %f]\" % (epoch, n_epochs, i, \n",
    "                                                                          len(train_loader),\n",
    "                                                        discriminator_loss.data, generator_loss.data))\n",
    "            save_image(gen_images.data[:25], 'images/batch_%d.png' % batches_done, nrow=5, normalize=True)\n",
    "        counter += 1"
   ]
  },
  {
   "cell_type": "code",
   "execution_count": 82,
   "metadata": {},
   "outputs": [
    {
     "data": {
      "image/png": "[encoded data removed]",
      "text/plain": [
       "<Figure size 432x288 with 1 Axes>"
      ]
     },
     "metadata": {},
     "output_type": "display_data"
    }
   ],
   "source": [
    "fig = plt.figure()\n",
    "ax0 =  fig.add_subplot(111)\n",
    "ax0.plot(gen_loss, c='blue')\n",
    "ax0.plot(dis_loss, c='orange')\n",
    "plt.show()"
   ]
  },
  {
   "cell_type": "code",
   "execution_count": 83,
   "metadata": {},
   "outputs": [],
   "source": [
    "def generate_noise(num=5):\n",
    "    z = np.random.normal(2, 1, (num, 100))\n",
    "    z = Variable(Tensor(z))\n",
    "    return z"
   ]
  },
  {
   "cell_type": "code",
   "execution_count": 84,
   "metadata": {},
   "outputs": [],
   "source": [
    "z = generate_noise()\n",
    "img = generator(z)\n",
    "img = img.detach().numpy().squeeze()"
   ]
  },
  {
   "cell_type": "code",
   "execution_count": 89,
   "metadata": {},
   "outputs": [
    {
     "data": {
      "text/plain": [
       "<matplotlib.image.AxesImage at 0x7f67fb8d2c88>"
      ]
     },
     "execution_count": 89,
     "metadata": {},
     "output_type": "execute_result"
    },
    {
     "data": {
      "image/png": "[encoded data removed]",
      "text/plain": [
       "<Figure size 432x288 with 1 Axes>"
      ]
     },
     "metadata": {},
     "output_type": "display_data"
    }
   ],
   "source": [
    "plt.imshow(img[0], cmap='gray')"
   ]
  },
  {
   "cell_type": "code",
   "execution_count": null,
   "metadata": {},
   "outputs": [],
   "source": []
  }
 ],
 "metadata": {
  "kernelspec": {
   "display_name": "Python 3",
   "language": "python",
   "name": "python3"
  },
  "language_info": {
   "codemirror_mode": {
    "name": "ipython",
    "version": 3
   },
   "file_extension": ".py",
   "mimetype": "text/x-python",
   "name": "python",
   "nbconvert_exporter": "python",
   "pygments_lexer": "ipython3",
   "version": "3.6.8"
  }
 },
 "nbformat": 4,
 "nbformat_minor": 2
}

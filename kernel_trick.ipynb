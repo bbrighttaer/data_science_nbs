{
 "cells": [
  {
   "cell_type": "code",
   "execution_count": 36,
   "metadata": {},
   "outputs": [],
   "source": [
    "import numpy as np\n",
    "import matplotlib.pyplot as plt\n",
    "import sklearn.datasets as ds\n",
    "import sklearn\n",
    "import torch\n",
    "import torch.nn as nn\n",
    "import torch.utils.data as data\n",
    "from torch.autograd import Variable\n",
    "from sklearn.model_selection import train_test_split\n",
    "from sklearn.utils import shuffle\n",
    "import sklearn.metrics as metrics"
   ]
  },
  {
   "cell_type": "code",
   "execution_count": 2,
   "metadata": {},
   "outputs": [],
   "source": [
    "seed = 0\n",
    "np.random.seed(seed)"
   ]
  },
  {
   "cell_type": "markdown",
   "metadata": {},
   "source": [
    "## Linear kernel"
   ]
  },
  {
   "cell_type": "code",
   "execution_count": 37,
   "metadata": {},
   "outputs": [],
   "source": [
    "X, y = ds.make_blobs(n_samples=7000, random_state=seed, centers=2)\n",
    "y = np.where(y==0, -1, y)"
   ]
  },
  {
   "cell_type": "code",
   "execution_count": 38,
   "metadata": {},
   "outputs": [
    {
     "name": "stdout",
     "output_type": "stream",
     "text": [
      "(7000, 2) (7000,)\n"
     ]
    }
   ],
   "source": [
    "print(X.shape, y.shape)"
   ]
  },
  {
   "cell_type": "code",
   "execution_count": 39,
   "metadata": {},
   "outputs": [],
   "source": [
    "y = y.reshape(-1,1)"
   ]
  },
  {
   "cell_type": "code",
   "execution_count": 40,
   "metadata": {},
   "outputs": [
    {
     "data": {
      "text/plain": [
       "(7000, 1)"
      ]
     },
     "execution_count": 40,
     "metadata": {},
     "output_type": "execute_result"
    }
   ],
   "source": [
    "y.shape"
   ]
  },
  {
   "cell_type": "code",
   "execution_count": 41,
   "metadata": {},
   "outputs": [],
   "source": [
    "X_pos = X[[np.where(y==-1)[0]], :].squeeze()\n",
    "X_neg = X[[np.where(y==1)[0]], :].squeeze()"
   ]
  },
  {
   "cell_type": "code",
   "execution_count": 42,
   "metadata": {},
   "outputs": [
    {
     "name": "stdout",
     "output_type": "stream",
     "text": [
      "(3500, 2) (3500, 2)\n"
     ]
    }
   ],
   "source": [
    "print(X_pos.shape, X_neg.shape)"
   ]
  },
  {
   "cell_type": "code",
   "execution_count": 43,
   "metadata": {},
   "outputs": [
    {
     "data": {
      "image/png": "[encoded data removed]",
      "text/plain": [
       "<Figure size 432x288 with 1 Axes>"
      ]
     },
     "metadata": {
      "needs_background": "light"
     },
     "output_type": "display_data"
    }
   ],
   "source": [
    "fig = plt.figure()\n",
    "ax0 = fig.add_subplot(111)\n",
    "ax0.scatter(X_pos[:,0], X_pos[:,1], c='blue')\n",
    "ax0.scatter(X_neg[:,0], X_neg[:,1], c='red')\n",
    "plt.xlabel('x1')\n",
    "plt.ylabel('x2')\n",
    "plt.show()"
   ]
  },
  {
   "cell_type": "code",
   "execution_count": 44,
   "metadata": {},
   "outputs": [],
   "source": [
    "class Dataset(data.Dataset):\n",
    "    def __init__(self, X, y):\n",
    "        super(Dataset, self).__init__()\n",
    "        self.X = X\n",
    "        self.y = y            \n",
    "    \n",
    "    def __len__(self):\n",
    "        return len(self.y)\n",
    "    \n",
    "    def __getitem__(self, index):\n",
    "        return self.X[index], self.y[index]"
   ]
  },
  {
   "cell_type": "code",
   "execution_count": 46,
   "metadata": {},
   "outputs": [],
   "source": [
    "X, y = shuffle(X, y)\n",
    "X_train, X_test, y_train, y_test = train_test_split(X, y, test_size = 0.2)\n",
    "X_valid, X_test, y_valid, y_test = train_test_split(X_test, y_test, test_size=0.5)"
   ]
  },
  {
   "cell_type": "code",
   "execution_count": 47,
   "metadata": {},
   "outputs": [
    {
     "name": "stdout",
     "output_type": "stream",
     "text": [
      "(5600, 2) (5600, 1) (700, 2) (700, 1) (700, 2) (700, 1)\n"
     ]
    }
   ],
   "source": [
    "print(X_train.shape, y_train.shape, X_valid.shape, y_valid.shape, X_test.shape, y_test.shape)"
   ]
  },
  {
   "cell_type": "code",
   "execution_count": 48,
   "metadata": {},
   "outputs": [],
   "source": [
    "train_ds = Dataset(X_train, y_train)\n",
    "valid_ds = Dataset(X_valid, y_valid)\n",
    "test_ds = Dataset(X_test, y_test)"
   ]
  },
  {
   "cell_type": "code",
   "execution_count": 90,
   "metadata": {},
   "outputs": [
    {
     "name": "stdout",
     "output_type": "stream",
     "text": [
      "228\n"
     ]
    }
   ],
   "source": [
    "n_iter = 10000\n",
    "batch_size = 128\n",
    "n_epochs = int(n_iter / (len(train_ds) / batch_size))\n",
    "print(n_epochs)"
   ]
  },
  {
   "cell_type": "code",
   "execution_count": 50,
   "metadata": {},
   "outputs": [],
   "source": [
    "train_loader = data.DataLoader(train_ds, shuffle=True, batch_size=batch_size)\n",
    "valid_loader = data.DataLoader(valid_ds, shuffle=False, batch_size=batch_size)\n",
    "test_loader = data.DataLoader(test_ds, shuffle=False, batch_size=batch_size)"
   ]
  },
  {
   "cell_type": "code",
   "execution_count": 79,
   "metadata": {},
   "outputs": [],
   "source": [
    "class LinearSVM(nn.Module):\n",
    "    def __init__(self, input_dim, out_dim):\n",
    "        super(LinearSVM, self).__init__()\n",
    "        # using a linear kernel: wx + b, where w and b are the parameters of the hyperplane\n",
    "        self.linear = nn.Linear(input_dim, out_dim)\n",
    "    def forward(self, X):\n",
    "        out = self.linear(X)\n",
    "        return out"
   ]
  },
  {
   "cell_type": "markdown",
   "metadata": {},
   "source": [
    "### Hinge Loss\n",
    "$\\ell(y) = \\max(0, 1-t \\cdot y)$\n",
    "\n",
    "where $t=\\pm 1$ and $y$ is the kernel. In linear SVM, $y = \\mathbf{w} \\cdot \\mathbf{x} + b$, where $(\\mathbf{w},b)$ are the parameters of the hyperplane and $ \\mathbf {x}$  is the point to classify.\n",
    "\n",
    "Read more [here](https://en.wikipedia.org/wiki/Hinge_loss)"
   ]
  },
  {
   "cell_type": "code",
   "execution_count": 101,
   "metadata": {},
   "outputs": [],
   "source": [
    "def train(model, optimizer, n_epochs, reg_lambda=1e-2):\n",
    "    train_loss = []\n",
    "    count = 0\n",
    "    for epoch in range(n_epochs):\n",
    "        for itr, (X, t) in enumerate(train_loader):\n",
    "            X = Variable(X.float(), requires_grad=False)\n",
    "            t = Variable(t.float(), requires_grad=False)\n",
    "\n",
    "            y = model(X)\n",
    "\n",
    "            # Hinge loss\n",
    "            loss = torch.mean(torch.clamp(1 - t * y, min=0))\n",
    "            # L2 regularization\n",
    "            l2 = 0\n",
    "            for layer in model.children():\n",
    "                l2 += torch.mean(layer.weight ** 2)\n",
    "            loss += reg_lambda * l2\n",
    "            train_loss.append(loss.item())\n",
    "\n",
    "            optimizer.zero_grad()\n",
    "            loss.backward()\n",
    "            optimizer.step()\n",
    "            \n",
    "            count += 1\n",
    "\n",
    "            if count % 500 == 0:\n",
    "                acc_aggr = []\n",
    "                for X, y in valid_loader:\n",
    "                    X = Variable(X.float(), requires_grad=False)\n",
    "                    y = y.numpy()\n",
    "                    y = np.where(y < 1, 0, y)\n",
    "                    out = model(X).detach().numpy()\n",
    "                    out = np.where(out >= 1, 1, 0)\n",
    "                    acc = metrics.roc_auc_score(y, out)\n",
    "                    acc_aggr.append(acc)\n",
    "                print(\"iter:{}, loss={}, accuracy={}\".format(count, loss.item(), np.mean(acc_aggr)))\n",
    "    return train_loss"
   ]
  },
  {
   "cell_type": "code",
   "execution_count": 102,
   "metadata": {},
   "outputs": [
    {
     "name": "stdout",
     "output_type": "stream",
     "text": [
      "iter:500, loss=0.07805569469928741, accuracy=0.9187418937656938\n",
      "iter:1000, loss=0.09051475673913956, accuracy=0.9430100786798676\n",
      "iter:1500, loss=0.12006961554288864, accuracy=0.9472201259194523\n",
      "iter:2000, loss=0.1037302315235138, accuracy=0.9472201259194523\n",
      "iter:2500, loss=0.08515136688947678, accuracy=0.9472201259194523\n",
      "iter:3000, loss=0.11836020648479462, accuracy=0.951498399728976\n",
      "iter:3500, loss=0.09096729755401611, accuracy=0.9526888759194522\n",
      "iter:4000, loss=0.07078149169683456, accuracy=0.9526888759194522\n",
      "iter:4500, loss=0.08874477446079254, accuracy=0.9526888759194522\n",
      "iter:5000, loss=0.08992171287536621, accuracy=0.9526888759194522\n",
      "iter:5500, loss=0.06919805705547333, accuracy=0.9526888759194522\n",
      "iter:6000, loss=0.06452804803848267, accuracy=0.9526888759194522\n",
      "iter:6500, loss=0.10050094127655029, accuracy=0.9526888759194522\n",
      "iter:7000, loss=0.06103568524122238, accuracy=0.9556650663956426\n",
      "iter:7500, loss=0.13112832605838776, accuracy=0.9497126854432617\n",
      "iter:8000, loss=0.05446380004286766, accuracy=0.9526888759194522\n",
      "iter:8500, loss=0.09407792240381241, accuracy=0.9556650663956426\n",
      "iter:9000, loss=0.13803045451641083, accuracy=0.9526888759194522\n",
      "iter:9500, loss=0.07926984131336212, accuracy=0.9526888759194522\n",
      "iter:10000, loss=0.11805236339569092, accuracy=0.9526888759194522\n"
     ]
    }
   ],
   "source": [
    "lin_svm = LinearSVM(2, 1)\n",
    "optimizer = torch.optim.SGD(lin_svm.parameters(), lr=0.1)\n",
    "trloss = train(lin_svm, optimizer, n_epochs, reg_lambda=0.00001)"
   ]
  },
  {
   "cell_type": "code",
   "execution_count": 103,
   "metadata": {},
   "outputs": [
    {
     "name": "stdout",
     "output_type": "stream",
     "text": [
      "tensor([[ 0.6082, -1.9272]])\n",
      "tensor([4.1226])\n"
     ]
    }
   ],
   "source": [
    "parameters = list(lin_svm.parameters())\n",
    "for i in range(len(parameters)):\n",
    "    print(parameters[i].data)"
   ]
  },
  {
   "cell_type": "code",
   "execution_count": 106,
   "metadata": {},
   "outputs": [],
   "source": [
    "test_out = lin_svm(Variable(torch.FloatTensor(test_ds.X))).detach().numpy()"
   ]
  },
  {
   "cell_type": "code",
   "execution_count": 107,
   "metadata": {},
   "outputs": [
    {
     "data": {
      "text/plain": [
       "(700, 1)"
      ]
     },
     "execution_count": 107,
     "metadata": {},
     "output_type": "execute_result"
    }
   ],
   "source": [
    "test_out.shape"
   ]
  },
  {
   "cell_type": "code",
   "execution_count": 108,
   "metadata": {},
   "outputs": [],
   "source": [
    "y_pred = test_out.copy()\n",
    "y_pred = np.where(y_pred >= 1, 1, 0)\n",
    "y_true = np.where(y_test >= 1, 1, 0)\n",
    "fpr, tpr, thr = metrics.roc_curve(y_true, y_pred)"
   ]
  },
  {
   "cell_type": "code",
   "execution_count": 116,
   "metadata": {},
   "outputs": [
    {
     "data": {
      "image/png": "[encoded data removed]",
      "text/plain": [
       "<Figure size 432x288 with 1 Axes>"
      ]
     },
     "metadata": {
      "needs_background": "light"
     },
     "output_type": "display_data"
    }
   ],
   "source": [
    "plt.plot(fpr, tpr)\n",
    "plt.xlabel('false positive rate')\n",
    "plt.ylabel('true positive rate')\n",
    "plt.show()"
   ]
  },
  {
   "cell_type": "code",
   "execution_count": 110,
   "metadata": {},
   "outputs": [
    {
     "data": {
      "text/plain": [
       "0.9559926851768702"
      ]
     },
     "execution_count": 110,
     "metadata": {},
     "output_type": "execute_result"
    }
   ],
   "source": [
    "metrics.roc_auc_score(y_true, y_pred)"
   ]
  },
  {
   "cell_type": "code",
   "execution_count": 117,
   "metadata": {},
   "outputs": [
    {
     "data": {
      "text/plain": [
       "(700, 1)"
      ]
     },
     "execution_count": 117,
     "metadata": {},
     "output_type": "execute_result"
    }
   ],
   "source": [
    "test_out.shape"
   ]
  },
  {
   "cell_type": "code",
   "execution_count": 123,
   "metadata": {},
   "outputs": [
    {
     "data": {
      "image/png": "[encoded data removed]",
      "text/plain": [
       "<Figure size 432x288 with 1 Axes>"
      ]
     },
     "metadata": {
      "needs_background": "light"
     },
     "output_type": "display_data"
    }
   ],
   "source": [
    "y_pos = test_out[[np.where(test_out >= 1)[0]], :].squeeze()\n",
    "y_neg = test_out[[np.where(test_out < 1)[0]], :].squeeze()\n",
    "x_pos = np.arange(0, y_pos.shape[0], 1)\n",
    "x_neg = np.arange(0, y_neg.shape[0], 1)\n",
    "fig = plt.figure()\n",
    "ax0 = fig.add_subplot(111)\n",
    "ax0.scatter(x_pos, y_pos, c='red')\n",
    "ax0.scatter(x_neg, y_neg, c='blue')\n",
    "plt.show()"
   ]
  },
  {
   "cell_type": "code",
   "execution_count": null,
   "metadata": {},
   "outputs": [],
   "source": []
  }
 ],
 "metadata": {
  "kernelspec": {
   "display_name": "Python 3",
   "language": "python",
   "name": "python3"
  },
  "language_info": {
   "codemirror_mode": {
    "name": "ipython",
    "version": 3
   },
   "file_extension": ".py",
   "mimetype": "text/x-python",
   "name": "python",
   "nbconvert_exporter": "python",
   "pygments_lexer": "ipython3",
   "version": "3.6.8"
  }
 },
 "nbformat": 4,
 "nbformat_minor": 2
}

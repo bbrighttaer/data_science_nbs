{
 "cells": [
  {
   "cell_type": "code",
   "execution_count": 1,
   "metadata": {},
   "outputs": [],
   "source": [
    "from keras.layers import Input, Dense\n",
    "from keras.models import Model\n",
    "from keras import regularizers"
   ]
  },
  {
   "cell_type": "code",
   "execution_count": 2,
   "metadata": {},
   "outputs": [],
   "source": [
    "encoding_dim = 32"
   ]
  },
  {
   "cell_type": "code",
   "execution_count": 26,
   "metadata": {},
   "outputs": [],
   "source": [
    "input_img = Input(shape=(784,))\n",
    "encoded = Dense(encoding_dim, activation='relu', activity_regularizer=regularizers.l1(10e-5))(input_img)\n",
    "decoded = Dense(784, activation='sigmoid')(encoded)\n",
    "autoencoder=Model(input_img, decoded)"
   ]
  },
  {
   "cell_type": "code",
   "execution_count": 27,
   "metadata": {},
   "outputs": [],
   "source": [
    "encoder = Model(input_img, encoded)"
   ]
  },
  {
   "cell_type": "code",
   "execution_count": 28,
   "metadata": {},
   "outputs": [],
   "source": [
    "encoded_input = Input(shape=(encoding_dim,))\n",
    "decoder_layer = autoencoder.layers[-1]\n",
    "decoder = Model(encoded_input, decoder_layer(encoded_input))"
   ]
  },
  {
   "cell_type": "code",
   "execution_count": 29,
   "metadata": {},
   "outputs": [],
   "source": [
    "autoencoder.compile(optimizer='adadelta', loss='binary_crossentropy')"
   ]
  },
  {
   "cell_type": "code",
   "execution_count": 30,
   "metadata": {},
   "outputs": [],
   "source": [
    "from keras.datasets import mnist\n",
    "import numpy as np"
   ]
  },
  {
   "cell_type": "code",
   "execution_count": 31,
   "metadata": {},
   "outputs": [],
   "source": [
    "(x_train, _), (x_test, _) = mnist.load_data()"
   ]
  },
  {
   "cell_type": "code",
   "execution_count": 32,
   "metadata": {},
   "outputs": [
    {
     "name": "stdout",
     "output_type": "stream",
     "text": [
      "(60000, 784) (10000, 784)\n"
     ]
    }
   ],
   "source": [
    "x_train = x_train.astype('float32') / 255\n",
    "x_test = x_test.astype('float32') / 255\n",
    "x_train = x_train.reshape((len(x_train), np.prod(x_train.shape[1:])))\n",
    "x_test = x_test.reshape((len(x_test), np.prod(x_test.shape[1:])))\n",
    "print(x_train.shape, x_test.shape)"
   ]
  },
  {
   "cell_type": "code",
   "execution_count": 33,
   "metadata": {},
   "outputs": [
    {
     "name": "stdout",
     "output_type": "stream",
     "text": [
      "Train on 60000 samples, validate on 10000 samples\n",
      "Epoch 1/100\n",
      "60000/60000 [==============================] - 6s 102us/step - loss: 0.6712 - val_loss: 0.6485\n",
      "Epoch 2/100\n",
      "60000/60000 [==============================] - 6s 92us/step - loss: 0.6025 - val_loss: 0.3725\n",
      "Epoch 3/100\n",
      "60000/60000 [==============================] - 5s 90us/step - loss: 0.3272 - val_loss: 0.3141\n",
      "Epoch 4/100\n",
      "60000/60000 [==============================] - 5s 89us/step - loss: 0.3092 - val_loss: 0.3049\n",
      "Epoch 5/100\n",
      "60000/60000 [==============================] - 5s 90us/step - loss: 0.3023 - val_loss: 0.2997\n",
      "Epoch 6/100\n",
      "60000/60000 [==============================] - 5s 90us/step - loss: 0.2979 - val_loss: 0.2959\n",
      "Epoch 7/100\n",
      "60000/60000 [==============================] - 5s 91us/step - loss: 0.2945 - val_loss: 0.2930\n",
      "Epoch 8/100\n",
      "60000/60000 [==============================] - 5s 91us/step - loss: 0.2918 - val_loss: 0.2905\n",
      "Epoch 9/100\n",
      "60000/60000 [==============================] - 6s 92us/step - loss: 0.2896 - val_loss: 0.2885\n",
      "Epoch 10/100\n",
      "60000/60000 [==============================] - 6s 100us/step - loss: 0.2876 - val_loss: 0.2865\n",
      "Epoch 11/100\n",
      "60000/60000 [==============================] - 6s 98us/step - loss: 0.2858 - val_loss: 0.2849\n",
      "Epoch 12/100\n",
      "60000/60000 [==============================] - 6s 100us/step - loss: 0.2842 - val_loss: 0.2834\n",
      "Epoch 13/100\n",
      "60000/60000 [==============================] - 6s 105us/step - loss: 0.2828 - val_loss: 0.2820\n",
      "Epoch 14/100\n",
      "60000/60000 [==============================] - 6s 108us/step - loss: 0.2814 - val_loss: 0.2807\n",
      "Epoch 15/100\n",
      "60000/60000 [==============================] - 6s 102us/step - loss: 0.2802 - val_loss: 0.2796\n",
      "Epoch 16/100\n",
      "60000/60000 [==============================] - 6s 105us/step - loss: 0.2791 - val_loss: 0.2785\n",
      "Epoch 17/100\n",
      "60000/60000 [==============================] - 6s 108us/step - loss: 0.2781 - val_loss: 0.2775\n",
      "Epoch 18/100\n",
      "60000/60000 [==============================] - 6s 102us/step - loss: 0.2772 - val_loss: 0.2767\n",
      "Epoch 19/100\n",
      "60000/60000 [==============================] - 6s 99us/step - loss: 0.2763 - val_loss: 0.2759\n",
      "Epoch 20/100\n",
      "60000/60000 [==============================] - 6s 95us/step - loss: 0.2756 - val_loss: 0.2751\n",
      "Epoch 21/100\n",
      "60000/60000 [==============================] - 6s 101us/step - loss: 0.2749 - val_loss: 0.2745\n",
      "Epoch 22/100\n",
      "60000/60000 [==============================] - 6s 102us/step - loss: 0.2742 - val_loss: 0.2739\n",
      "Epoch 23/100\n",
      "60000/60000 [==============================] - 6s 97us/step - loss: 0.2736 - val_loss: 0.2733\n",
      "Epoch 24/100\n",
      "60000/60000 [==============================] - 6s 93us/step - loss: 0.2731 - val_loss: 0.2728\n",
      "Epoch 25/100\n",
      "60000/60000 [==============================] - 6s 94us/step - loss: 0.2726 - val_loss: 0.2724\n",
      "Epoch 26/100\n",
      "60000/60000 [==============================] - 6s 94us/step - loss: 0.2722 - val_loss: 0.2720\n",
      "Epoch 27/100\n",
      "60000/60000 [==============================] - 6s 95us/step - loss: 0.2718 - val_loss: 0.2716\n",
      "Epoch 28/100\n",
      "60000/60000 [==============================] - 6s 98us/step - loss: 0.2714 - val_loss: 0.2712\n",
      "Epoch 29/100\n",
      "60000/60000 [==============================] - 7s 119us/step - loss: 0.2711 - val_loss: 0.2709\n",
      "Epoch 30/100\n",
      "60000/60000 [==============================] - 6s 100us/step - loss: 0.2708 - val_loss: 0.2706\n",
      "Epoch 31/100\n",
      "60000/60000 [==============================] - 6s 96us/step - loss: 0.2705 - val_loss: 0.2703\n",
      "Epoch 32/100\n",
      "60000/60000 [==============================] - 6s 97us/step - loss: 0.2702 - val_loss: 0.2700\n",
      "Epoch 33/100\n",
      "60000/60000 [==============================] - 7s 115us/step - loss: 0.2699 - val_loss: 0.2698\n",
      "Epoch 34/100\n",
      "60000/60000 [==============================] - 7s 111us/step - loss: 0.2697 - val_loss: 0.2695\n",
      "Epoch 35/100\n",
      "60000/60000 [==============================] - 7s 123us/step - loss: 0.2695 - val_loss: 0.2693\n",
      "Epoch 36/100\n",
      "60000/60000 [==============================] - 6s 107us/step - loss: 0.2692 - val_loss: 0.2691\n",
      "Epoch 37/100\n",
      "60000/60000 [==============================] - 6s 100us/step - loss: 0.2690 - val_loss: 0.2689\n",
      "Epoch 38/100\n",
      "60000/60000 [==============================] - 6s 106us/step - loss: 0.2688 - val_loss: 0.2687\n",
      "Epoch 39/100\n",
      "60000/60000 [==============================] - 7s 117us/step - loss: 0.2686 - val_loss: 0.2685\n",
      "Epoch 40/100\n",
      "60000/60000 [==============================] - 6s 96us/step - loss: 0.2684 - val_loss: 0.2683\n",
      "Epoch 41/100\n",
      "60000/60000 [==============================] - 6s 95us/step - loss: 0.2682 - val_loss: 0.2681\n",
      "Epoch 42/100\n",
      "60000/60000 [==============================] - 6s 93us/step - loss: 0.2681 - val_loss: 0.2679\n",
      "Epoch 43/100\n",
      "60000/60000 [==============================] - 6s 100us/step - loss: 0.2679 - val_loss: 0.2677\n",
      "Epoch 44/100\n",
      "60000/60000 [==============================] - 6s 94us/step - loss: 0.2677 - val_loss: 0.2676\n",
      "Epoch 45/100\n",
      "60000/60000 [==============================] - 6s 98us/step - loss: 0.2676 - val_loss: 0.2675\n",
      "Epoch 46/100\n",
      "60000/60000 [==============================] - 6s 95us/step - loss: 0.2674 - val_loss: 0.2673\n",
      "Epoch 47/100\n",
      "60000/60000 [==============================] - 6s 94us/step - loss: 0.2672 - val_loss: 0.2671\n",
      "Epoch 48/100\n",
      "60000/60000 [==============================] - 6s 94us/step - loss: 0.2671 - val_loss: 0.2669\n",
      "Epoch 49/100\n",
      "60000/60000 [==============================] - 6s 95us/step - loss: 0.2669 - val_loss: 0.2668\n",
      "Epoch 50/100\n",
      "60000/60000 [==============================] - 6s 97us/step - loss: 0.2668 - val_loss: 0.2666\n",
      "Epoch 51/100\n",
      "60000/60000 [==============================] - 6s 96us/step - loss: 0.2666 - val_loss: 0.2665\n",
      "Epoch 52/100\n",
      "60000/60000 [==============================] - 6s 97us/step - loss: 0.2665 - val_loss: 0.2664\n",
      "Epoch 53/100\n",
      "60000/60000 [==============================] - 6s 107us/step - loss: 0.2663 - val_loss: 0.2662\n",
      "Epoch 54/100\n",
      "60000/60000 [==============================] - 7s 109us/step - loss: 0.2662 - val_loss: 0.2661\n",
      "Epoch 55/100\n",
      "60000/60000 [==============================] - 6s 107us/step - loss: 0.2661 - val_loss: 0.2659\n",
      "Epoch 56/100\n",
      "60000/60000 [==============================] - 6s 103us/step - loss: 0.2659 - val_loss: 0.2658\n",
      "Epoch 57/100\n",
      "60000/60000 [==============================] - 6s 103us/step - loss: 0.2658 - val_loss: 0.2657\n",
      "Epoch 58/100\n",
      "60000/60000 [==============================] - 7s 109us/step - loss: 0.2657 - val_loss: 0.2656\n",
      "Epoch 59/100\n",
      "60000/60000 [==============================] - 6s 108us/step - loss: 0.2655 - val_loss: 0.2655\n",
      "Epoch 60/100\n",
      "60000/60000 [==============================] - 6s 106us/step - loss: 0.2654 - val_loss: 0.2653\n",
      "Epoch 61/100\n",
      "60000/60000 [==============================] - 7s 109us/step - loss: 0.2653 - val_loss: 0.2652\n",
      "Epoch 62/100\n",
      "60000/60000 [==============================] - 6s 105us/step - loss: 0.2652 - val_loss: 0.2650\n",
      "Epoch 63/100\n",
      "60000/60000 [==============================] - 6s 104us/step - loss: 0.2651 - val_loss: 0.2649\n",
      "Epoch 64/100\n",
      "60000/60000 [==============================] - 7s 109us/step - loss: 0.2649 - val_loss: 0.2648\n",
      "Epoch 65/100\n",
      "60000/60000 [==============================] - 7s 110us/step - loss: 0.2648 - val_loss: 0.2647\n",
      "Epoch 66/100\n",
      "60000/60000 [==============================] - 7s 122us/step - loss: 0.2647 - val_loss: 0.2646\n",
      "Epoch 67/100\n",
      "60000/60000 [==============================] - 7s 110us/step - loss: 0.2646 - val_loss: 0.2644\n",
      "Epoch 68/100\n",
      "60000/60000 [==============================] - 7s 110us/step - loss: 0.2645 - val_loss: 0.2643\n",
      "Epoch 69/100\n",
      "60000/60000 [==============================] - 7s 111us/step - loss: 0.2644 - val_loss: 0.2642\n",
      "Epoch 70/100\n",
      "60000/60000 [==============================] - 7s 111us/step - loss: 0.2642 - val_loss: 0.2641\n",
      "Epoch 71/100\n",
      "60000/60000 [==============================] - 7s 110us/step - loss: 0.2641 - val_loss: 0.2640\n",
      "Epoch 72/100\n",
      "60000/60000 [==============================] - 7s 111us/step - loss: 0.2640 - val_loss: 0.2639\n",
      "Epoch 73/100\n",
      "60000/60000 [==============================] - 7s 110us/step - loss: 0.2639 - val_loss: 0.2638\n",
      "Epoch 74/100\n",
      "60000/60000 [==============================] - 7s 110us/step - loss: 0.2638 - val_loss: 0.2637\n",
      "Epoch 75/100\n",
      "60000/60000 [==============================] - 7s 110us/step - loss: 0.2637 - val_loss: 0.2636\n",
      "Epoch 76/100\n",
      "60000/60000 [==============================] - 6s 108us/step - loss: 0.2636 - val_loss: 0.2635\n"
     ]
    },
    {
     "name": "stdout",
     "output_type": "stream",
     "text": [
      "Epoch 77/100\n",
      "60000/60000 [==============================] - 5s 88us/step - loss: 0.2635 - val_loss: 0.2634\n",
      "Epoch 78/100\n",
      "60000/60000 [==============================] - 5s 89us/step - loss: 0.2634 - val_loss: 0.2632\n",
      "Epoch 79/100\n",
      "60000/60000 [==============================] - 5s 87us/step - loss: 0.2633 - val_loss: 0.2632\n",
      "Epoch 80/100\n",
      "60000/60000 [==============================] - 5s 89us/step - loss: 0.2632 - val_loss: 0.2631\n",
      "Epoch 81/100\n",
      "60000/60000 [==============================] - 5s 90us/step - loss: 0.2631 - val_loss: 0.2630\n",
      "Epoch 82/100\n",
      "60000/60000 [==============================] - 5s 87us/step - loss: 0.2630 - val_loss: 0.2629\n",
      "Epoch 83/100\n",
      "60000/60000 [==============================] - 5s 89us/step - loss: 0.2629 - val_loss: 0.2628\n",
      "Epoch 84/100\n",
      "60000/60000 [==============================] - 5s 87us/step - loss: 0.2628 - val_loss: 0.2627\n",
      "Epoch 85/100\n",
      "60000/60000 [==============================] - 5s 88us/step - loss: 0.2627 - val_loss: 0.2626\n",
      "Epoch 86/100\n",
      "60000/60000 [==============================] - 5s 90us/step - loss: 0.2626 - val_loss: 0.2625\n",
      "Epoch 87/100\n",
      "60000/60000 [==============================] - 5s 90us/step - loss: 0.2625 - val_loss: 0.2624\n",
      "Epoch 88/100\n",
      "60000/60000 [==============================] - 5s 88us/step - loss: 0.2625 - val_loss: 0.2623\n",
      "Epoch 89/100\n",
      "60000/60000 [==============================] - 5s 90us/step - loss: 0.2624 - val_loss: 0.2622\n",
      "Epoch 90/100\n",
      "60000/60000 [==============================] - 5s 87us/step - loss: 0.2623 - val_loss: 0.2621\n",
      "Epoch 91/100\n",
      "60000/60000 [==============================] - 5s 88us/step - loss: 0.2622 - val_loss: 0.2621\n",
      "Epoch 92/100\n",
      "60000/60000 [==============================] - 5s 91us/step - loss: 0.2621 - val_loss: 0.2619\n",
      "Epoch 93/100\n",
      "60000/60000 [==============================] - 5s 88us/step - loss: 0.2620 - val_loss: 0.2619\n",
      "Epoch 94/100\n",
      "60000/60000 [==============================] - 5s 90us/step - loss: 0.2619 - val_loss: 0.2618\n",
      "Epoch 95/100\n",
      "60000/60000 [==============================] - 5s 90us/step - loss: 0.2618 - val_loss: 0.2617\n",
      "Epoch 96/100\n",
      "60000/60000 [==============================] - 5s 90us/step - loss: 0.2618 - val_loss: 0.2616\n",
      "Epoch 97/100\n",
      "60000/60000 [==============================] - 5s 91us/step - loss: 0.2617 - val_loss: 0.2617\n",
      "Epoch 98/100\n",
      "60000/60000 [==============================] - 5s 88us/step - loss: 0.2616 - val_loss: 0.2614\n",
      "Epoch 99/100\n",
      "60000/60000 [==============================] - 6s 92us/step - loss: 0.2615 - val_loss: 0.2614\n",
      "Epoch 100/100\n",
      "60000/60000 [==============================] - 5s 88us/step - loss: 0.2614 - val_loss: 0.2613\n"
     ]
    },
    {
     "data": {
      "text/plain": [
       "<keras.callbacks.History at 0x7f3241e8ee10>"
      ]
     },
     "execution_count": 33,
     "metadata": {},
     "output_type": "execute_result"
    }
   ],
   "source": [
    "autoencoder.fit(x_train, x_train, epochs=100, batch_size=256, shuffle=True, validation_data=(x_test, x_test))"
   ]
  },
  {
   "cell_type": "code",
   "execution_count": 34,
   "metadata": {},
   "outputs": [],
   "source": [
    "encoded_imgs = encoder.predict(x_test)\n",
    "decoded_imgs = decoder.predict(encoded_imgs)"
   ]
  },
  {
   "cell_type": "code",
   "execution_count": 35,
   "metadata": {},
   "outputs": [],
   "source": [
    "import matplotlib.pyplot as plt"
   ]
  },
  {
   "cell_type": "code",
   "execution_count": 36,
   "metadata": {},
   "outputs": [
    {
     "data": {
      "image/png": "[encoded data removed]",
      "text/plain": [
       "<Figure size 1440x288 with 20 Axes>"
      ]
     },
     "metadata": {
      "needs_background": "light"
     },
     "output_type": "display_data"
    }
   ],
   "source": [
    "n= 10\n",
    "plt.figure(figsize=(20, 4))\n",
    "for i in range(n):\n",
    "    ax = plt.subplot(2, n, i+1)\n",
    "    plt.imshow(x_test[i].reshape(28, 28))\n",
    "    plt.gray()\n",
    "    ax.get_xaxis().set_visible(False)\n",
    "    ax.get_yaxis().set_visible(False)\n",
    "    \n",
    "    ax = plt.subplot(2, n, i+1+n)\n",
    "    plt.imshow(decoded_imgs[i].reshape(28, 28))\n",
    "    plt.gray()\n",
    "    ax.get_xaxis().set_visible(False)\n",
    "    ax.get_yaxis().set_visible(False)\n",
    "plt.show()"
   ]
  },
  {
   "cell_type": "code",
   "execution_count": 17,
   "metadata": {},
   "outputs": [
    {
     "name": "stdout",
     "output_type": "stream",
     "text": [
      "_________________________________________________________________\n",
      "Layer (type)                 Output Shape              Param #   \n",
      "=================================================================\n",
      "input_1 (InputLayer)         (None, 784)               0         \n",
      "_________________________________________________________________\n",
      "dense_1 (Dense)              (None, 32)                25120     \n",
      "_________________________________________________________________\n",
      "dense_2 (Dense)              (None, 784)               25872     \n",
      "=================================================================\n",
      "Total params: 50,992\n",
      "Trainable params: 50,992\n",
      "Non-trainable params: 0\n",
      "_________________________________________________________________\n"
     ]
    }
   ],
   "source": [
    "autoencoder.summary()"
   ]
  },
  {
   "cell_type": "code",
   "execution_count": null,
   "metadata": {},
   "outputs": [],
   "source": []
  }
 ],
 "metadata": {
  "kernelspec": {
   "display_name": "Python 3",
   "language": "python",
   "name": "python3"
  },
  "language_info": {
   "codemirror_mode": {
    "name": "ipython",
    "version": 3
   },
   "file_extension": ".py",
   "mimetype": "text/x-python",
   "name": "python",
   "nbconvert_exporter": "python",
   "pygments_lexer": "ipython3",
   "version": "3.6.8"
  }
 },
 "nbformat": 4,
 "nbformat_minor": 2
}

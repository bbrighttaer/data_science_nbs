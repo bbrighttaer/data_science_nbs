{
 "cells": [
  {
   "cell_type": "code",
   "execution_count": 1,
   "metadata": {},
   "outputs": [
    {
     "name": "stderr",
     "output_type": "stream",
     "text": [
      "Using TensorFlow backend.\n"
     ]
    }
   ],
   "source": [
    "from keras.layers import Input, Dense\n",
    "from keras.models import Model"
   ]
  },
  {
   "cell_type": "code",
   "execution_count": 2,
   "metadata": {},
   "outputs": [],
   "source": [
    "encoding_dim = 32"
   ]
  },
  {
   "cell_type": "code",
   "execution_count": 3,
   "metadata": {},
   "outputs": [],
   "source": [
    "input_img = Input(shape=(784,))\n",
    "encoded = Dense(encoding_dim, activation='relu')(input_img)\n",
    "decoded = Dense(784, activation='sigmoid')(encoded)\n",
    "autoencoder=Model(input_img, decoded)"
   ]
  },
  {
   "cell_type": "code",
   "execution_count": 4,
   "metadata": {},
   "outputs": [],
   "source": [
    "encoder = Model(input_img, encoded)"
   ]
  },
  {
   "cell_type": "code",
   "execution_count": 5,
   "metadata": {},
   "outputs": [],
   "source": [
    "encoded_input = Input(shape=(encoding_dim,))\n",
    "decoder_layer = autoencoder.layers[-1]\n",
    "decoder = Model(encoded_input, decoder_layer(encoded_input))"
   ]
  },
  {
   "cell_type": "code",
   "execution_count": 6,
   "metadata": {},
   "outputs": [],
   "source": [
    "autoencoder.compile(optimizer='adadelta', loss='binary_crossentropy')"
   ]
  },
  {
   "cell_type": "code",
   "execution_count": 7,
   "metadata": {},
   "outputs": [],
   "source": [
    "from keras.datasets import mnist\n",
    "import numpy as np"
   ]
  },
  {
   "cell_type": "code",
   "execution_count": 8,
   "metadata": {},
   "outputs": [
    {
     "name": "stdout",
     "output_type": "stream",
     "text": [
      "Downloading data from https://s3.amazonaws.com/img-datasets/mnist.npz\n",
      "11493376/11490434 [==============================] - 32s 3us/step\n"
     ]
    }
   ],
   "source": [
    "(x_train, _), (x_test, _) = mnist.load_data()"
   ]
  },
  {
   "cell_type": "code",
   "execution_count": 9,
   "metadata": {},
   "outputs": [
    {
     "name": "stdout",
     "output_type": "stream",
     "text": [
      "(60000, 784) (10000, 784)\n"
     ]
    }
   ],
   "source": [
    "x_train = x_train.astype('float32') / 255\n",
    "x_test = x_test.astype('float32') / 255\n",
    "x_train = x_train.reshape((len(x_train), np.prod(x_train.shape[1:])))\n",
    "x_test = x_test.reshape((len(x_test), np.prod(x_test.shape[1:])))\n",
    "print(x_train.shape, x_test.shape)"
   ]
  },
  {
   "cell_type": "code",
   "execution_count": 10,
   "metadata": {},
   "outputs": [
    {
     "name": "stdout",
     "output_type": "stream",
     "text": [
      "Train on 60000 samples, validate on 10000 samples\n",
      "Epoch 1/50\n",
      "60000/60000 [==============================] - 6s 103us/step - loss: 0.3599 - val_loss: 0.2716\n",
      "Epoch 2/50\n",
      "60000/60000 [==============================] - 5s 88us/step - loss: 0.2655 - val_loss: 0.2556\n",
      "Epoch 3/50\n",
      "60000/60000 [==============================] - 5s 87us/step - loss: 0.2441 - val_loss: 0.2300\n",
      "Epoch 4/50\n",
      "60000/60000 [==============================] - 5s 87us/step - loss: 0.2219 - val_loss: 0.2120\n",
      "Epoch 5/50\n",
      "60000/60000 [==============================] - 5s 88us/step - loss: 0.2068 - val_loss: 0.1992\n",
      "Epoch 6/50\n",
      "60000/60000 [==============================] - 5s 89us/step - loss: 0.1958 - val_loss: 0.1898\n",
      "Epoch 7/50\n",
      "60000/60000 [==============================] - 5s 90us/step - loss: 0.1875 - val_loss: 0.1823\n",
      "Epoch 8/50\n",
      "60000/60000 [==============================] - 5s 88us/step - loss: 0.1807 - val_loss: 0.1762\n",
      "Epoch 9/50\n",
      "60000/60000 [==============================] - 5s 87us/step - loss: 0.1748 - val_loss: 0.1706\n",
      "Epoch 10/50\n",
      "60000/60000 [==============================] - 5s 88us/step - loss: 0.1695 - val_loss: 0.1655\n",
      "Epoch 11/50\n",
      "60000/60000 [==============================] - 5s 87us/step - loss: 0.1648 - val_loss: 0.1611\n",
      "Epoch 12/50\n",
      "60000/60000 [==============================] - 5s 90us/step - loss: 0.1605 - val_loss: 0.1570\n",
      "Epoch 13/50\n",
      "60000/60000 [==============================] - 6s 95us/step - loss: 0.1566 - val_loss: 0.1533\n",
      "Epoch 14/50\n",
      "60000/60000 [==============================] - 5s 90us/step - loss: 0.1530 - val_loss: 0.1498\n",
      "Epoch 15/50\n",
      "60000/60000 [==============================] - 5s 91us/step - loss: 0.1497 - val_loss: 0.1465\n",
      "Epoch 16/50\n",
      "60000/60000 [==============================] - 5s 91us/step - loss: 0.1466 - val_loss: 0.1436\n",
      "Epoch 17/50\n",
      "60000/60000 [==============================] - 6s 94us/step - loss: 0.1437 - val_loss: 0.1410\n",
      "Epoch 18/50\n",
      "60000/60000 [==============================] - 5s 90us/step - loss: 0.1411 - val_loss: 0.1385\n",
      "Epoch 19/50\n",
      "60000/60000 [==============================] - 5s 89us/step - loss: 0.1387 - val_loss: 0.1361\n",
      "Epoch 20/50\n",
      "60000/60000 [==============================] - 6s 97us/step - loss: 0.1364 - val_loss: 0.1338\n",
      "Epoch 21/50\n",
      "60000/60000 [==============================] - 6s 94us/step - loss: 0.1342 - val_loss: 0.1317\n",
      "Epoch 22/50\n",
      "60000/60000 [==============================] - 6s 94us/step - loss: 0.1322 - val_loss: 0.1297\n",
      "Epoch 23/50\n",
      "60000/60000 [==============================] - 6s 99us/step - loss: 0.1303 - val_loss: 0.1279\n",
      "Epoch 24/50\n",
      "60000/60000 [==============================] - 6s 92us/step - loss: 0.1285 - val_loss: 0.1262\n",
      "Epoch 25/50\n",
      "60000/60000 [==============================] - 5s 89us/step - loss: 0.1268 - val_loss: 0.1245\n",
      "Epoch 26/50\n",
      "60000/60000 [==============================] - 5s 89us/step - loss: 0.1251 - val_loss: 0.1228\n",
      "Epoch 27/50\n",
      "60000/60000 [==============================] - 5s 89us/step - loss: 0.1236 - val_loss: 0.1213\n",
      "Epoch 28/50\n",
      "60000/60000 [==============================] - 5s 89us/step - loss: 0.1221 - val_loss: 0.1199\n",
      "Epoch 29/50\n",
      "60000/60000 [==============================] - 5s 89us/step - loss: 0.1207 - val_loss: 0.1185\n",
      "Epoch 30/50\n",
      "60000/60000 [==============================] - 5s 89us/step - loss: 0.1193 - val_loss: 0.1172\n",
      "Epoch 31/50\n",
      "60000/60000 [==============================] - 6s 100us/step - loss: 0.1181 - val_loss: 0.1159\n",
      "Epoch 32/50\n",
      "60000/60000 [==============================] - 6s 95us/step - loss: 0.1169 - val_loss: 0.1148\n",
      "Epoch 33/50\n",
      "60000/60000 [==============================] - 6s 94us/step - loss: 0.1158 - val_loss: 0.1137\n",
      "Epoch 34/50\n",
      "60000/60000 [==============================] - 6s 95us/step - loss: 0.1148 - val_loss: 0.1127\n",
      "Epoch 35/50\n",
      "60000/60000 [==============================] - 6s 95us/step - loss: 0.1138 - val_loss: 0.1118\n",
      "Epoch 36/50\n",
      "60000/60000 [==============================] - 6s 94us/step - loss: 0.1129 - val_loss: 0.1109\n",
      "Epoch 37/50\n",
      "60000/60000 [==============================] - 6s 95us/step - loss: 0.1121 - val_loss: 0.1101\n",
      "Epoch 38/50\n",
      "60000/60000 [==============================] - 6s 101us/step - loss: 0.1114 - val_loss: 0.1094\n",
      "Epoch 39/50\n",
      "60000/60000 [==============================] - 6s 97us/step - loss: 0.1107 - val_loss: 0.1087\n",
      "Epoch 40/50\n",
      "60000/60000 [==============================] - 6s 94us/step - loss: 0.1100 - val_loss: 0.1081\n",
      "Epoch 41/50\n",
      "60000/60000 [==============================] - 6s 95us/step - loss: 0.1094 - val_loss: 0.1075\n",
      "Epoch 42/50\n",
      "60000/60000 [==============================] - 6s 95us/step - loss: 0.1088 - val_loss: 0.1070\n",
      "Epoch 43/50\n",
      "60000/60000 [==============================] - 6s 95us/step - loss: 0.1083 - val_loss: 0.1065\n",
      "Epoch 44/50\n",
      "60000/60000 [==============================] - 6s 94us/step - loss: 0.1078 - val_loss: 0.1060\n",
      "Epoch 45/50\n",
      "60000/60000 [==============================] - 6s 100us/step - loss: 0.1074 - val_loss: 0.1055\n",
      "Epoch 46/50\n",
      "60000/60000 [==============================] - 6s 96us/step - loss: 0.1069 - val_loss: 0.1051\n",
      "Epoch 47/50\n",
      "60000/60000 [==============================] - 6s 96us/step - loss: 0.1065 - val_loss: 0.1047\n",
      "Epoch 48/50\n",
      "60000/60000 [==============================] - 6s 104us/step - loss: 0.1062 - val_loss: 0.1044\n",
      "Epoch 49/50\n",
      "60000/60000 [==============================] - 6s 96us/step - loss: 0.1058 - val_loss: 0.1040\n",
      "Epoch 50/50\n",
      "60000/60000 [==============================] - 6s 108us/step - loss: 0.1055 - val_loss: 0.1037\n"
     ]
    },
    {
     "data": {
      "text/plain": [
       "<keras.callbacks.History at 0x7fb4332964e0>"
      ]
     },
     "execution_count": 10,
     "metadata": {},
     "output_type": "execute_result"
    }
   ],
   "source": [
    "autoencoder.fit(x_train, x_train, epochs=50, batch_size=256, shuffle=True, validation_data=(x_test, x_test))"
   ]
  },
  {
   "cell_type": "code",
   "execution_count": 11,
   "metadata": {},
   "outputs": [],
   "source": [
    "encoded_imgs = encoder.predict(x_test)\n",
    "decoded_imgs = decoder.predict(encoded_imgs)"
   ]
  },
  {
   "cell_type": "code",
   "execution_count": 12,
   "metadata": {},
   "outputs": [],
   "source": [
    "import matplotlib.pyplot as plt"
   ]
  },
  {
   "cell_type": "code",
   "execution_count": 15,
   "metadata": {},
   "outputs": [
    {
     "data": {
      "image/png": "[encoded data removed]",
      "text/plain": [
       "<Figure size 1440x288 with 20 Axes>"
      ]
     },
     "metadata": {
      "needs_background": "light"
     },
     "output_type": "display_data"
    }
   ],
   "source": [
    "n= 10\n",
    "plt.figure(figsize=(20, 4))\n",
    "for i in range(n):\n",
    "    ax = plt.subplot(2, n, i+1)\n",
    "    plt.imshow(x_test[i].reshape(28, 28))\n",
    "    plt.gray()\n",
    "    ax.get_xaxis().set_visible(False)\n",
    "    ax.get_yaxis().set_visible(False)\n",
    "    \n",
    "    ax = plt.subplot(2, n, i+1+n)\n",
    "    plt.imshow(decoded_imgs[i].reshape(28, 28))\n",
    "    plt.gray()\n",
    "    ax.get_xaxis().set_visible(False)\n",
    "    ax.get_yaxis().set_visible(False)\n",
    "plt.show()"
   ]
  },
  {
   "cell_type": "code",
   "execution_count": 17,
   "metadata": {},
   "outputs": [
    {
     "name": "stdout",
     "output_type": "stream",
     "text": [
      "_________________________________________________________________\n",
      "Layer (type)                 Output Shape              Param #   \n",
      "=================================================================\n",
      "input_1 (InputLayer)         (None, 784)               0         \n",
      "_________________________________________________________________\n",
      "dense_1 (Dense)              (None, 32)                25120     \n",
      "_________________________________________________________________\n",
      "dense_2 (Dense)              (None, 784)               25872     \n",
      "=================================================================\n",
      "Total params: 50,992\n",
      "Trainable params: 50,992\n",
      "Non-trainable params: 0\n",
      "_________________________________________________________________\n"
     ]
    }
   ],
   "source": [
    "autoencoder.summary()"
   ]
  },
  {
   "cell_type": "code",
   "execution_count": null,
   "metadata": {},
   "outputs": [],
   "source": []
  }
 ],
 "metadata": {
  "kernelspec": {
   "display_name": "Python 3",
   "language": "python",
   "name": "python3"
  },
  "language_info": {
   "codemirror_mode": {
    "name": "ipython",
    "version": 3
   },
   "file_extension": ".py",
   "mimetype": "text/x-python",
   "name": "python",
   "nbconvert_exporter": "python",
   "pygments_lexer": "ipython3",
   "version": "3.6.8"
  }
 },
 "nbformat": 4,
 "nbformat_minor": 2
}

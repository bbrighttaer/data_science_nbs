{
 "cells": [
  {
   "cell_type": "markdown",
   "metadata": {},
   "source": [
    "# Singular Value Decomposition (SVD) Tutorial\n",
    "SVD is a form of matrix decomposition commonly used for dimension reduction, denoising, and several applications. Another similar matrix decomposition method is the eigen decomposition. The [key differences](https://math.stackexchange.com/questions/320220/intuitively-what-is-the-difference-between-eigendecomposition-and-singular-valu), however, are the following:\n",
    "\n",
    "Consider the eigendecomposition $A=PDP^{-1}$ and $SVD=U\\Sigma V^*$:\n",
    "1. The vectors in the eigen decomposition matrix $P$ are not necessarily orthogonal, so the change of basis isn't a simple rotation. On the other hand, the vectors in the matrices $U$ and $V$ in the SVD are orthonormal (a set of vectors, both orthogonal and normalized.), so they do represent rotations and possibly flips.\n",
    "2. In the SVD, the nondiagonal matrices $U$ and $V$ are not necessarily the inverse of one another. They are usually not related to each other at all. In the eigen decomposition, the nondiagonal matrices $P$ and $P^{-1}$ are the inverses of each other.\n",
    "3. In the SVD the entries in the diagonal matrix $\\Sigma$ are all real and nonnegative. In the eigen decomposition, the entries of $D$ can be any complex number - negative, positive, imaginary.\n",
    "4. The SVD always exists for any sort of rectangular or square matrix, whereas the eigen decomposition can only exists for square matrices, and even among square matrices it may not not exist.\n",
    "\n",
    "**Parts of the tutorial**\n",
    "1. Singular-Value Decomposition\n",
    "2. Calculate Singular-Value Decomposition\n",
    "3. Reconstruct Matrix from SVD\n",
    "4. SVD for Pseudoinverse\n",
    "5. SVD for Dimensionality Reduction"
   ]
  },
  {
   "cell_type": "code",
   "execution_count": null,
   "metadata": {},
   "outputs": [],
   "source": []
  }
 ],
 "metadata": {
  "kernelspec": {
   "display_name": "Python 3",
   "language": "python",
   "name": "python3"
  },
  "language_info": {
   "codemirror_mode": {
    "name": "ipython",
    "version": 3
   },
   "file_extension": ".py",
   "mimetype": "text/x-python",
   "name": "python",
   "nbconvert_exporter": "python",
   "pygments_lexer": "ipython3",
   "version": "3.6.6"
  }
 },
 "nbformat": 4,
 "nbformat_minor": 2
}

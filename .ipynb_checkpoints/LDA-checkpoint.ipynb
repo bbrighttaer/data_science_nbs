{
 "cells": [
  {
   "cell_type": "markdown",
   "metadata": {},
   "source": [
    "#  Linear Discriminant Analysis (LDA) tutorial"
   ]
  },
  {
   "cell_type": "markdown",
   "metadata": {},
   "source": [
    "Notes from: [link 1](https://machinelearningmastery.com/linear-discriminant-analysis-for-machine-learning/), [link 2](https://www.python-course.eu/linear_discriminant_analysis.php)"
   ]
  },
  {
   "cell_type": "markdown",
   "metadata": {},
   "source": [
    "- Logistic regression classification is hardly applied to two-class problems.\n",
    "- LDA classification can be used for multi-class problems.\n",
    "- LDA searches for a projection of a dataset which maximizes the 'between class scatter to within class scatter' $\\left(\\frac{S_B}{S_W}\\right)$ ratio of this projected dataset.\n",
    "- The goal is transform a dataset $A$ using a transformation matrix $w$ such that the between-class-scatter to within-class-scatter ratio $Y=w^T\\cdot A$ is maximized.\n",
    "- Formally, find the linear combination $Z=a^T\\cdot X$ such that the between class variance is maximized relative to the within class variance.\n",
    "- LDA makes the assumption that the distribution of the data is Gaussian\n",
    "- LDA consists of statistical properties of your data, calculated for each class.\n",
    "- For single variable class, the statistical properties that are calculated are the mean and variance.\n",
    "- For multiple variables, the statistical properties are the means and covariance matrix of the multivariate Gaussian.\n",
    "- An LDA model uses these properties to make predictions.\n",
    "\n",
    "**Assumptions**\n",
    "1. That the data is Gaussian.\n",
    "2. That each attribute has the same variance."
   ]
  },
  {
   "cell_type": "code",
   "execution_count": null,
   "metadata": {},
   "outputs": [],
   "source": []
  }
 ],
 "metadata": {
  "kernelspec": {
   "display_name": "Python 3",
   "language": "python",
   "name": "python3"
  },
  "language_info": {
   "codemirror_mode": {
    "name": "ipython",
    "version": 3
   },
   "file_extension": ".py",
   "mimetype": "text/x-python",
   "name": "python",
   "nbconvert_exporter": "python",
   "pygments_lexer": "ipython3",
   "version": "3.6.6"
  }
 },
 "nbformat": 4,
 "nbformat_minor": 2
}
